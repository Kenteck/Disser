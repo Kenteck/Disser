{
 "cells": [
  {
   "cell_type": "code",
   "execution_count": 6,
   "id": "769fd90c",
   "metadata": {},
   "outputs": [
    {
     "data": {
      "image/png": "[encoded data removed]",
      "text/plain": [
       "<Figure size 432x288 with 1 Axes>"
      ]
     },
     "metadata": {
      "needs_background": "light"
     },
     "output_type": "display_data"
    }
   ],
   "source": [
    "import matplotlib.pyplot as plt\n",
    "def getValue(string):\n",
    "    return string.split(' ')[-1][:-1]\n",
    "\n",
    "f = open(\"ParticlesPos.txt\", \"r\")\n",
    "numberOfParticles = 0\n",
    "circles = 0\n",
    "distirbutionType = \"\"\n",
    "particleList = []\n",
    "indexList = []\n",
    "for x in f:\n",
    "    if \"Distribution\" in x:\n",
    "        distirbutionType = getValue(x)\n",
    "    elif \"particles\" in x:\n",
    "        numberOfParticles = int(getValue(x))\n",
    "    elif \"circles\" in x:\n",
    "        circles = int(getValue(x))\n",
    "    else:\n",
    "        particleList.append(int(getValue(x)))\n",
    "        \n",
    "for i in range(7):\n",
    "    indexList.append(i)\n",
    "\n",
    "fig = plt.figure()\n",
    "ax = fig.add_axes([0,0,1,1])\n",
    "ax.bar(indexList, particleList)\n",
    "plt.show()"
   ]
  },
  {
   "cell_type": "code",
   "execution_count": null,
   "id": "41a7494f",
   "metadata": {},
   "outputs": [],
   "source": []
  }
 ],
 "metadata": {
  "kernelspec": {
   "display_name": "Python 3 (ipykernel)",
   "language": "python",
   "name": "python3"
  },
  "language_info": {
   "codemirror_mode": {
    "name": "ipython",
    "version": 3
   },
   "file_extension": ".py",
   "mimetype": "text/x-python",
   "name": "python",
   "nbconvert_exporter": "python",
   "pygments_lexer": "ipython3",
   "version": "3.8.8"
  }
 },
 "nbformat": 4,
 "nbformat_minor": 5
}
